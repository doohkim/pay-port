{
 "cells": [
  {
   "cell_type": "code",
   "execution_count": 1,
   "metadata": {},
   "outputs": [],
   "source": [
    "from datetime import date\n",
    "import os\n",
    "import requests\n",
    "os.environ[\"DJANGO_ALLOW_ASYNC_UNSAFE\"] = \"true\""
   ]
  },
  {
   "cell_type": "code",
   "execution_count": 2,
   "metadata": {},
   "outputs": [],
   "source": [
    "headers = {\n",
    "    \"Accept\": \"application/json, text/javascript, */*; q=0.01\",\n",
    "    \"Accept-Encoding\": \"gzip, deflate\",\n",
    "    \"Accept-Language\": \"ko-KR,ko;q=0.9,en-US;q=0.8,en;q=0.7\",\n",
    "    \"Connection\": \"keep-alive\",\n",
    "    \"Content-Length\": \"171\",\n",
    "    \"Content-Type\": \"application/x-www-form-urlencoded; charset=UTF-8\",\n",
    "    \"Cookie\": \"userInputId=admin; JSESSIONID=44348EA5CEE488C9F10F3B733E67F9C2; savedPopupWindow_w=1000; savedPopupWindow_h=699\",\n",
    "    \"Host\": \"admin.pay-go.co.kr\",\n",
    "    \"Origin\": \"http://admin.pay-go.co.kr\",\n",
    "    \"Referer\": \"http://admin.pay-go.co.kr/admin/trans/TransForm.do\",\n",
    "    \"User-Agent\": \"Mozilla/5.0 (X11; Linux x86_64) AppleWebKit/537.36 (KHTML, like Gecko) Chrome/87.0.4280.88 Safari/537.36\",\n",
    "    \"X-Requested-With\": \"XMLHttpRequest\",\n",
    "}"
   ]
  },
  {
   "cell_type": "code",
   "execution_count": null,
   "metadata": {},
   "outputs": [],
   "source": [
    "data = {\n",
    "    \"coNm\": \"\",\n",
    "    \"coNo\": \"\",\n",
    "    \"emp\": \"admin\",\n",
    "    \"mid\":\"\" ,\n",
    "    \"regType\": \"Update\",\n",
    "    \"selID\": \"\",\n",
    "    \"selCycle\": \"\",\n",
    "    \"strUse\": \"\",\n",
    "    \"selDate\":\"2\" ,\n",
    "    \"selJoinType\": \"\",\n",
    "    \"selPgCd\": \"\",\n",
    "    \"selSmallCl\": \"\",\n",
    "    \"_search\": False,\n",
    "    \"nd\": \"1612150887151\",\n",
    "    \"rows\": \"-1\",\n",
    "    \"page\": \"1\",\n",
    "    \"sidx\": \"\",\n",
    "    \"sord\": \"asc\",\n",
    "}"
   ]
  },
  {
   "cell_type": "code",
   "execution_count": null,
   "metadata": {},
   "outputs": [],
   "source": [
    "url ='http://admin.pay-go.co.kr/admin/foundation/FoundationSearchAjax.do'"
   ]
  },
  {
   "cell_type": "code",
   "execution_count": null,
   "metadata": {},
   "outputs": [],
   "source": [
    "res = requests.post(url, headers=headers, data=data)"
   ]
  },
  {
   "cell_type": "code",
   "execution_count": null,
   "metadata": {
    "scrolled": true
   },
   "outputs": [],
   "source": [
    "contents = res.json()\n",
    "contents"
   ]
  },
  {
   "cell_type": "code",
   "execution_count": null,
   "metadata": {},
   "outputs": [],
   "source": []
  },
  {
   "cell_type": "code",
   "execution_count": null,
   "metadata": {
    "scrolled": true
   },
   "outputs": [],
   "source": [
    "franchees_list = list()\n",
    "\n",
    "\n",
    "for fran in contents['rows']:\n",
    "#     print(fran)\n",
    "    franchees_dict = dict()\n",
    "    franchees_dict['phone_number'] = fran['tel_no']\n",
    "    franchees_dict['fax_number'] = fran['fax_no']\n",
    "    franchees_dict['type'] = fran['join_type']\n",
    "    franchees_dict['email'] = fran['email']\n",
    "    franchees_dict['boss_nm'] = fran['boss_nm']\n",
    "\n",
    "    franchees_dict['mid_name'] = fran['co_nm']\n",
    "    franchees_dict['gid'] = fran['gid']\n",
    "    franchees_dict['mid'] = fran['mid']\n",
    "    franchees_list.append(franchees_dict)\n",
    "\n",
    "    \n",
    "#     fran['fax_no']\n",
    "#     fran['join_type']\n",
    "#     fran['tech_emp']\n",
    "#     fran['boss_nm']\n",
    "#     fran['bnm']\n",
    "#     fran['post_no']\n",
    "#     fran['anm'] \n",
    "    \n",
    "#     fran['emp1']\n",
    "#     fran['corp_no']\n",
    "#     fran['emp0']\n",
    "#     fran['status']\n",
    "#     fran['org_fee']\n",
    "#     fran['cont_dt']\n",
    "#     fran['mid_url']\n",
    "#     fran['aid'] \n",
    "    \n",
    "#     fran['addr_no1']\n",
    "#     fran['eid_fee']\n",
    "#     fran['co_no']\n",
    "#     fran['eid']\n",
    "#     fran['tech_emp_email']\n",
    "#     fran['tech_emp_tel']\n",
    "#     fran['settlmnt_emp_email']\n",
    "#     fran['insurance_cnt'] \n",
    "    \n",
    "#     fran['gnm']\n",
    "#     fran['service_cl']\n",
    "#     fran['bid']\n",
    "#     fran['submall_url']\n",
    "#     fran['enm']\n",
    "#     fran['mn_bs_kind']\n",
    "#     fran['small_cl_nm']\n",
    "#     fran['use01'] \n",
    "    \n",
    "#     fran['cont_img']\n",
    "#     fran['mid']\n",
    "#     fran['soc_no']\n",
    "#     fran['settlmnt_emp_tel']"
   ]
  },
  {
   "cell_type": "code",
   "execution_count": null,
   "metadata": {},
   "outputs": [],
   "source": [
    "# for i in franchees_list:\n",
    "#     print(i)"
   ]
  },
  {
   "cell_type": "code",
   "execution_count": null,
   "metadata": {},
   "outputs": [],
   "source": [
    "p1,_ = PayGoComputationalManager.objects.get_or_create(\n",
    "    name='김기인',\n",
    "    department='영업관리팀',\n",
    "    position='대리',\n",
    "    phone_number='01032145567',\n",
    "    email='giin@gmail.com',\n",
    ")\n",
    "p2,_=PayGoComputationalManager.objects.get_or_create(\n",
    "    name='김성준',\n",
    "    department='영업관리팀',\n",
    "    position='팀장',\n",
    "    phone_number='01022145512',\n",
    "    email='sj@gmail.com',\n",
    ")\n",
    "p3, _=PayGoComputationalManager.objects.get_or_create(  \n",
    "    name='박선애',\n",
    "    department='경영관리팀',\n",
    "    position='팀장',\n",
    "    phone_number='01032145512',\n",
    "    email='se@gmail.com',\n",
    ")"
   ]
  },
  {
   "cell_type": "code",
   "execution_count": null,
   "metadata": {
    "scrolled": true
   },
   "outputs": [],
   "source": [
    "for value in franchees_list:\n",
    "    \n",
    "    try:\n",
    "\n",
    "        franch, _  = FranchiseeUser.objects.get_or_create(\n",
    "            mid = value['mid'],\n",
    "            gid = value['gid'] ,\n",
    "            mid_name = value['mid_name'],\n",
    "            boss_name = value['boss_nm'],\n",
    "            phone_number = value['phone_number'],\n",
    "            fax_number = value['fax_number'],\n",
    "            user_type = value['type'],\n",
    "            email = value['email'] ,\n",
    "        )\n",
    "        [franch.franchisee_managers.add(mg)for mg in [p1,p2,p3]]\n",
    "        memo, _ = Memo.objects.get_or_create(\n",
    "            franchisee_user = franch,\n",
    "            modify_text = '가입'\n",
    "        \n",
    "        )\n",
    "        memo, _ = Memo.objects.get_or_create(\n",
    "            franchisee_user = franch,\n",
    "            modify_text = '수수료변경'\n",
    "        \n",
    "        )\n",
    "        print(franch)\n",
    "    except Exception as e:\n",
    "        print('error', e)\n",
    "    \n",
    "    \n",
    "    \n",
    "    "
   ]
  },
  {
   "cell_type": "code",
   "execution_count": null,
   "metadata": {},
   "outputs": [],
   "source": []
  },
  {
   "cell_type": "code",
   "execution_count": null,
   "metadata": {},
   "outputs": [],
   "source": [
    "from members.serializers import *"
   ]
  },
  {
   "cell_type": "code",
   "execution_count": null,
   "metadata": {},
   "outputs": [],
   "source": [
    "FranchiseeUser.objects.all().delete()\n"
   ]
  },
  {
   "cell_type": "code",
   "execution_count": null,
   "metadata": {},
   "outputs": [],
   "source": [
    "fran = FranchiseeUser.objects.first()"
   ]
  },
  {
   "cell_type": "code",
   "execution_count": null,
   "metadata": {},
   "outputs": [],
   "source": [
    "MemoSerializer(data={\n",
    "    'modify_text':'수정함'\n",
    "})"
   ]
  },
  {
   "cell_type": "code",
   "execution_count": null,
   "metadata": {},
   "outputs": [],
   "source": [
    "MemoSerializer.validated_data"
   ]
  },
  {
   "cell_type": "code",
   "execution_count": null,
   "metadata": {},
   "outputs": [],
   "source": [
    "MemoSerializer.errors"
   ]
  },
  {
   "cell_type": "code",
   "execution_count": 3,
   "metadata": {},
   "outputs": [],
   "source": [
    "from members.serializers import *"
   ]
  },
  {
   "cell_type": "code",
   "execution_count": 17,
   "metadata": {},
   "outputs": [],
   "source": [
    "data =  {\n",
    "        \"memos\": [\n",
    "            {\n",
    "                \"modify_text\": \"수수료변경\"\n",
    "            },\n",
    "            {\n",
    "\n",
    "                \"modify_text\": \"가입\"\n",
    "            }\n",
    "        ],\n",
    "    \"franchisee_managers\": [\n",
    "            {\n",
    "                \"name\": \"react\",\n",
    "                \"department\": \"develop\",\n",
    "                \"position\": \"PM\",\n",
    "                \"phone_number\": \"01022145512\",\n",
    "                \"email\": \"sj@gmail.com\"\n",
    "            },\n",
    "            {\n",
    "                \"name\": \"ajax\",\n",
    "                \"department\": \"market\",\n",
    "                \"position\": \"engineer\",\n",
    "                \"phone_number\": \"01032145567\",\n",
    "                \"email\": \"giin@gmail.com\"\n",
    "            }\n",
    "        ],\n",
    "        \"password\": \"a\",\n",
    "        \"mid\": \"paygo6805m\",\n",
    "        \"gid\": \"GID002g\",\n",
    "        \"mid_name\": \"김도오\",\n",
    "        \"user_type\": \"f\",\n",
    "#         \"boss_name\":\"김도오\",\n",
    "        \"email\": \"sales@pay-go.co.kr\",\n",
    "        \"phone_number\": \"01095679151\",\n",
    "        \"fax_number\": \"0211112222\",\n",
    "    }"
   ]
  },
  {
   "cell_type": "code",
   "execution_count": 18,
   "metadata": {
    "scrolled": true
   },
   "outputs": [],
   "source": [
    "serializer = FranchiseeUserManagerCreateSerializer(data=data)\n"
   ]
  },
  {
   "cell_type": "code",
   "execution_count": 19,
   "metadata": {},
   "outputs": [
    {
     "name": "stdout",
     "output_type": "stream",
     "text": [
      "{'mid': 'paygo6805m', 'gid': 'GID002g', 'mid_name': '김도오', 'email': 'sales@pay-go.co.kr', 'phone_number': '01095679151', 'fax_number': '0211112222', 'memos': [OrderedDict([('modify_text', '수수료변경')]), OrderedDict([('modify_text', '가입')])], 'franchisee_managers': [OrderedDict([('name', 'react'), ('department', 'develop'), ('position', 'PM'), ('phone_number', '01022145512'), ('email', 'sj@gmail.com')]), OrderedDict([('name', 'ajax'), ('department', 'market'), ('position', 'engineer'), ('phone_number', '01032145567'), ('email', 'giin@gmail.com')])]}\n"
     ]
    }
   ],
   "source": [
    "if serializer.is_valid():\n",
    "    serializer.save()\n",
    "else:\n",
    "    print(serializer.errors)\n"
   ]
  },
  {
   "cell_type": "code",
   "execution_count": 15,
   "metadata": {},
   "outputs": [
    {
     "ename": "AssertionError",
     "evalue": "You cannot call `.save()` on a serializer with invalid data.",
     "output_type": "error",
     "traceback": [
      "\u001b[0;31m---------------------------------------------------------------------------\u001b[0m",
      "\u001b[0;31mAssertionError\u001b[0m                            Traceback (most recent call last)",
      "\u001b[0;32m<ipython-input-15-4bde7bc40c4c>\u001b[0m in \u001b[0;36m<module>\u001b[0;34m\u001b[0m\n\u001b[0;32m----> 1\u001b[0;31m \u001b[0mserializer\u001b[0m\u001b[0;34m.\u001b[0m\u001b[0msave\u001b[0m\u001b[0;34m(\u001b[0m\u001b[0;34m)\u001b[0m\u001b[0;34m\u001b[0m\u001b[0;34m\u001b[0m\u001b[0m\n\u001b[0m",
      "\u001b[0;32m~/.pyenv/versions/iamport-env/lib/python3.7/site-packages/rest_framework/serializers.py\u001b[0m in \u001b[0;36msave\u001b[0;34m(self, **kwargs)\u001b[0m\n\u001b[1;32m    176\u001b[0m \u001b[0;34m\u001b[0m\u001b[0m\n\u001b[1;32m    177\u001b[0m         assert not self.errors, (\n\u001b[0;32m--> 178\u001b[0;31m             \u001b[0;34m'You cannot call `.save()` on a serializer with invalid data.'\u001b[0m\u001b[0;34m\u001b[0m\u001b[0;34m\u001b[0m\u001b[0m\n\u001b[0m\u001b[1;32m    179\u001b[0m         )\n\u001b[1;32m    180\u001b[0m \u001b[0;34m\u001b[0m\u001b[0m\n",
      "\u001b[0;31mAssertionError\u001b[0m: You cannot call `.save()` on a serializer with invalid data."
     ]
    }
   ],
   "source": []
  },
  {
   "cell_type": "code",
   "execution_count": null,
   "metadata": {},
   "outputs": [],
   "source": []
  }
 ],
 "metadata": {
  "kernelspec": {
   "display_name": "Django Shell-Plus",
   "language": "python",
   "name": "django_extensions"
  },
  "language_info": {
   "codemirror_mode": {
    "name": "ipython",
    "version": 3
   },
   "file_extension": ".py",
   "mimetype": "text/x-python",
   "name": "python",
   "nbconvert_exporter": "python",
   "pygments_lexer": "ipython3",
   "version": "3.7.8"
  }
 },
 "nbformat": 4,
 "nbformat_minor": 4
}
