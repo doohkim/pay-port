{
 "cells": [
  {
   "cell_type": "code",
   "execution_count": 1,
   "id": "sharing-stuart",
   "metadata": {},
   "outputs": [],
   "source": [
    "from datetime import date\n",
    "import os\n",
    "# from bs4 import BeautifulSoup\n",
    "import requests\n",
    "import json\n",
    "os.environ[\"DJANGO_ALLOW_ASYNC_UNSAFE\"] = \"true\"\n",
    "from owners.serializers import *"
   ]
  },
  {
   "cell_type": "code",
   "execution_count": null,
   "id": "spread-briefs",
   "metadata": {},
   "outputs": [],
   "source": [
    "Owner.objects.all().delete()"
   ]
  },
  {
   "cell_type": "code",
   "execution_count": 2,
   "id": "naval-hampton",
   "metadata": {},
   "outputs": [
    {
     "data": {
      "text/plain": [
       "'TypeError at /owners/list/\\nstring indices must be integers\\n\\nRequest Method: POST\\nRequest URL: http://127.0.0.1:8000/owners/list/\\nDjango Version: 2.2.17\\nPython Executable: /home/lumen-dooh/.pyenv/versions/iamport-env/bin/python\\nPython Version: 3.7.8\\nPython Path: [\\'/home/lumen-dooh/workspace/lumen/iamport/app\\', \\'/home/lumen-dooh/.pyenv/versions/3.7.8/lib/python37.zip\\', \\'/home/lumen-dooh/.pyenv/versions/3.7.8/lib/python3.7\\', \\'/home/lumen-dooh/.pyenv/versions/3.7.8/lib/python3.7/lib-dynload\\', \\'/home/lumen-dooh/.pyenv/versions/iamport-env/lib/python3.7/site-packages\\']\\nServer time: Tue, 2 Feb 2021 11:48:09 +0000\\nInstalled Applications:\\n[\\'django.contrib.admin\\',\\n \\'django.contrib.auth\\',\\n \\'django.contrib.contenttypes\\',\\n \\'django.contrib.sessions\\',\\n \\'django.contrib.messages\\',\\n \\'django.contrib.staticfiles\\',\\n \\'members.apps.MembersConfig\\',\\n \\'owners.apps.OwnersConfig\\',\\n \\'paymethod.apps.PaymethodConfig\\',\\n \\'django_extensions\\',\\n \\'rest_framework\\']\\nInstalled Middleware:\\n[\\'django.middleware.security.SecurityMiddleware\\',\\n \\'django.contrib.sessions.middleware.SessionMiddleware\\',\\n \\'django.middleware.common.CommonMiddleware\\',\\n \\'django.middleware.csrf.CsrfViewMiddleware\\',\\n \\'django.contrib.auth.middleware.AuthenticationMiddleware\\',\\n \\'django.contrib.messages.middleware.MessageMiddleware\\',\\n \\'django.middleware.clickjacking.XFrameOptionsMiddleware\\']\\n\\n\\nTraceback:\\n\\nFile \"/home/lumen-dooh/.pyenv/versions/iamport-env/lib/python3.7/site-packages/django/core/handlers/exception.py\" in inner\\n  34.             response = get_response(request)\\n\\nFile \"/home/lumen-dooh/.pyenv/versions/iamport-env/lib/python3.7/site-packages/django/core/handlers/base.py\" in _get_response\\n  115.                 response = self.process_exception_by_middleware(e, request)\\n\\nFile \"/home/lumen-dooh/.pyenv/versions/iamport-env/lib/python3.7/site-packages/django/core/handlers/base.py\" in _get_response\\n  113.                 response = wrapped_callback(request, *callback_args, **callback_kwargs)\\n\\nFile \"/home/lumen-dooh/.pyenv/versions/iamport-env/lib/python3.7/site-packages/django/views/decorators/csrf.py\" in wrapped_view\\n  54.         return view_func(*args, **kwargs)\\n\\nFile \"/home/lumen-dooh/.pyenv/versions/iamport-env/lib/python3.7/site-packages/django/views/generic/base.py\" in view\\n  71.             return self.dispatch(request, *args, **kwargs)\\n\\nFile \"/home/lumen-dooh/.pyenv/versions/iamport-env/lib/python3.7/site-packages/rest_framework/views.py\" in dispatch\\n  509.             response = self.handle_exception(exc)\\n\\nFile \"/home/lumen-dooh/.pyenv/versions/iamport-env/lib/python3.7/site-packages/rest_framework/views.py\" in handle_exception\\n  469.             self.raise_uncaught_exception(exc)\\n\\nFile \"/home/lumen-dooh/.pyenv/versions/iamport-env/lib/python3.7/site-packages/rest_framework/views.py\" in raise_uncaught_exception\\n  480.         raise exc\\n\\nFile \"/home/lumen-dooh/.pyenv/versions/iamport-env/lib/python3.7/site-packages/rest_framework/views.py\" in dispatch\\n  506.             response = handler(request, *args, **kwargs)\\n\\nFile \"/home/lumen-dooh/workspace/lumen/iamport/app/owners/views.py\" in post\\n  17.         manager_number_list = [manager[\"phone_number\"] for manager in manager_raw_data]\\n\\nFile \"/home/lumen-dooh/workspace/lumen/iamport/app/owners/views.py\" in <listcomp>\\n  17.         manager_number_list = [manager[\"phone_number\"] for manager in manager_raw_data]\\n\\nException Type: TypeError at /owners/list/\\nException Value: string indices must be integers\\nRequest information:\\nUSER: AnonymousUser\\n\\nGET: No GET data\\n\\nPOST:\\nbusiness_license_number = \\'af\\'\\nbusiness_name = \\'비영이짝태111221\\'\\nbusiness_classification = \\'개인사업자\\'\\nsales_channel = \\'0\\'\\nbusiness_main_item = \\'음식\\'\\napplication_route = \\'0004\\'\\npaymangers = \\'email\\'\\n\\nFILES: No FILES data\\n\\nCOOKIES: No cookie data\\n\\nMETA:\\nCLUTTER_IM_MODULE = \\'fcitx\\'\\nCOLORTERM = \\'truecolor\\'\\nCONTENT_LENGTH = \\'338\\'\\nCONTENT_TYPE = \\'application/x-www-form-urlencoded\\'\\nDBUS_SESSION_BUS_ADDRESS = \\'unix:path=/run/user/1000/bus\\'\\nDESKTOP_SESSION = \\'ubuntu\\'\\nDISPLAY = \\':0\\'\\nDJANGO_SETTINGS_MODULE = \\'config.settings\\'\\nGATEWAY_INTERFACE = \\'CGI/1.1\\'\\nGDMSESSION = \\'ubuntu\\'\\nGJS_DEBUG_OUTPUT = \\'stderr\\'\\nGJS_DEBUG_TOPICS = \\'JS ERROR;JS LOG\\'\\nGNOME_DESKTOP_SESSION_ID = \\'this-is-deprecated\\'\\nGNOME_SHELL_SESSION_MODE = \\'ubuntu\\'\\nGNOME_TERMINAL_SCREEN = \\'/org/gnome/Terminal/screen/a6278d36_ebc4_47c4_8acf_d19cdfbbb645\\'\\nGNOME_TERMINAL_SERVICE = \\':1.123\\'\\nGPG_AGENT_INFO = \\'/run/user/1000/gnupg/S.gpg-agent:0:1\\'\\nGTK_IM_MODULE = \\'fcitx\\'\\nGTK_MODULES = \\'gail:atk-bridge\\'\\nHOME = \\'/home/lumen-dooh\\'\\nHTTP_ACCEPT = \\'*/*\\'\\nHTTP_ACCEPT_ENCODING = \\'gzip, deflate\\'\\nHTTP_CONNECTION = \\'keep-alive\\'\\nHTTP_HOST = \\'127.0.0.1:8000\\'\\nHTTP_USER_AGENT = \\'python-requests/2.25.1\\'\\nIM_CONFIG_PHASE = \\'1\\'\\nINVOCATION_ID = \\'412d4022bad943189210eef1dc90fc91\\'\\nJOURNAL_STREAM = \\'8:46999\\'\\nLANG = \\'ko_KR.UTF-8\\'\\nLANGUAGE = \\'ko:en\\'\\nLC_ADDRESS = \\'ko_KR.UTF-8\\'\\nLC_IDENTIFICATION = \\'ko_KR.UTF-8\\'\\nLC_MEASUREMENT = \\'ko_KR.UTF-8\\'\\nLC_MONETARY = \\'ko_KR.UTF-8\\'\\nLC_NAME = \\'ko_KR.UTF-8\\'\\nLC_NUMERIC = \\'ko_KR.UTF-8\\'\\nLC_PAPER = \\'ko_KR.UTF-8\\'\\nLC_TELEPHONE = \\'ko_KR.UTF-8\\'\\nLC_TIME = \\'ko_KR.UTF-8\\'\\nLESSCLOSE = \\'/usr/bin/lesspipe %s %s\\'\\nLESSOPEN = \\'| /usr/bin/lesspipe %s\\'\\nLOGNAME = \\'lumen-dooh\\'\\nLS_COLORS = \\'rs=0:di=01;34:ln=01;36:mh=00:pi=40;33:so=01;35:do=01;35:bd=40;33;01:cd=40;33;01:or=40;31;01:mi=00:su=37;41:sg=30;43:ca=30;41:tw=30;42:ow=34;42:st=37;44:ex=01;32:*.tar=01;31:*.tgz=01;31:*.arc=01;31:*.arj=01;31:*.taz=01;31:*.lha=01;31:*.lz4=01;31:*.lzh=01;31:*.lzma=01;31:*.tlz=01;31:*.txz=01;31:*.tzo=01;31:*.t7z=01;31:*.zip=01;31:*.z=01;31:*.dz=01;31:*.gz=01;31:*.lrz=01;31:*.lz=01;31:*.lzo=01;31:*.xz=01;31:*.zst=01;31:*.tzst=01;31:*.bz2=01;31:*.bz=01;31:*.tbz=01;31:*.tbz2=01;31:*.tz=01;31:*.deb=01;31:*.rpm=01;31:*.jar=01;31:*.war=01;31:*.ear=01;31:*.sar=01;31:*.rar=01;31:*.alz=01;31:*.ace=01;31:*.zoo=01;31:*.cpio=01;31:*.7z=01;31:*.rz=01;31:*.cab=01;31:*.wim=01;31:*.swm=01;31:*.dwm=01;31:*.esd=01;31:*.jpg=01;35:*.jpeg=01;35:*.mjpg=01;35:*.mjpeg=01;35:*.gif=01;35:*.bmp=01;35:*.pbm=01;35:*.pgm=01;35:*.ppm=01;35:*.tga=01;35:*.xbm=01;35:*.xpm=01;35:*.tif=01;35:*.tiff=01;35:*.png=01;35:*.svg=01;35:*.svgz=01;35:*.mng=01;35:*.pcx=01;35:*.mov=01;35:*.mpg=01;35:*.mpeg=01;35:*.m2v=01;35:*.mkv=01;35:*.webm=01;35:*.ogm=01;35:*.mp4=01;35:*.m4v=01;35:*.mp4v=01;35:*.vob=01;35:*.qt=01;35:*.nuv=01;35:*.wmv=01;35:*.asf=01;35:*.rm=01;35:*.rmvb=01;35:*.flc=01;35:*.avi=01;35:*.fli=01;35:*.flv=01;35:*.gl=01;35:*.dl=01;35:*.xcf=01;35:*.xwd=01;35:*.yuv=01;35:*.cgm=01;35:*.emf=01;35:*.ogv=01;35:*.ogx=01;35:*.aac=00;36:*.au=00;36:*.flac=00;36:*.m4a=00;36:*.mid=00;36:*.midi=00;36:*.mka=00;36:*.mp3=00;36:*.mpc=00;36:*.ogg=00;36:*.ra=00;36:*.wav=00;36:*.oga=00;36:*.opus=00;36:*.spx=00;36:*.xspf=00;36:\\'\\nMANAGERPID = \\'1506\\'\\nNVM_BIN = \\'/home/lumen-dooh/.nvm/versions/node/v15.3.0/bin\\'\\nNVM_CD_FLAGS = \\'\\'\\nNVM_DIR = \\'/home/lumen-dooh/.nvm\\'\\nNVM_INC = \\'/home/lumen-dooh/.nvm/versions/node/v15.3.0/include/node\\'\\nPATH = \\'/home/lumen-dooh/.pyenv/versions/iamport-env/bin:/home/lumen-dooh/.pyenv/libexec:/home/lumen-dooh/.pyenv/plugins/python-build/bin:/home/lumen-dooh/.pyenv/plugins/pyenv-virtualenv/bin:/home/lumen-dooh/.pyenv/plugins/pyenv-update/bin:/home/lumen-dooh/.pyenv/plugins/pyenv-installer/bin:/home/lumen-dooh/.pyenv/plugins/pyenv-doctor/bin:/home/lumen-dooh/.pyenv/plugins/python-build/bin:/home/lumen-dooh/.pyenv/plugins/pyenv-virtualenv/bin:/home/lumen-dooh/.pyenv/plugins/pyenv-update/bin:/home/lumen-dooh/.pyenv/plugins/pyenv-installer/bin:/home/lumen-dooh/.pyenv/plugins/pyenv-doctor/bin:/home/lumen-dooh/.yarn/bin:/home/lumen-dooh/.nvm/versions/node/v15.3.0/bin:/home/lumen-dooh/.pyenv/plugins/pyenv-virtualenv/shims:/home/lumen-dooh/.pyenv/shims:/home/lumen-dooh/.pyenv/bin:/home/lumen-dooh/.poetry/bin:/usr/local/sbin:/usr/local/bin:/usr/sbin:/usr/bin:/sbin:/bin:/usr/games:/usr/local/games:/snap/bin\\'\\nPATH_INFO = \\'/owners/list/\\'\\nPWD = \\'/home/lumen-dooh/workspace/lumen/iamport/app\\'\\nPYENV_DIR = \\'/home/lumen-dooh/workspace/lumen/iamport/app\\'\\nPYENV_HOOK_PATH = \\'/home/lumen-dooh/.pyenv/pyenv.d:/usr/local/etc/pyenv.d:/etc/pyenv.d:/usr/lib/pyenv/hooks:/home/lumen-dooh/.pyenv/plugins/pyenv-virtualenv/etc/pyenv.d:/home/lumen-dooh/.pyenv/plugins/pyenv-which-ext/etc/pyenv.d\\'\\nPYENV_ROOT = \\'/home/lumen-dooh/.pyenv\\'\\nPYENV_SHELL = \\'bash\\'\\nPYENV_VERSION = \\'iamport-env\\'\\nPYENV_VIRTUALENV_INIT = \\'1\\'\\nPYENV_VIRTUAL_ENV = \\'/home/lumen-dooh/.pyenv/versions/3.7.8/envs/iamport-env\\'\\nQT4_IM_MODULE = \\'fcitx\\'\\nQT_ACCESSIBILITY = \\'1\\'\\nQT_IM_MODULE = \\'fcitx\\'\\nQUERY_STRING = \\'\\'\\nREMOTE_ADDR = \\'127.0.0.1\\'\\nREMOTE_HOST = \\'\\'\\nREQUEST_METHOD = \\'POST\\'\\nRUN_MAIN = \\'true\\'\\nSCRIPT_NAME = \\'\\'\\nSERVER_NAME = \\'localhost\\'\\nSERVER_PORT = \\'8000\\'\\nSERVER_PROTOCOL = \\'HTTP/1.1\\'\\nSERVER_SOFTWARE = \\'WSGIServer/0.2\\'\\nSESSION_MANAGER = \\'local/lumen-dooh:@/tmp/.ICE-unix/1768,unix/lumen-dooh:/tmp/.ICE-unix/1768\\'\\nSHELL = \\'/usr/bin/zsh\\'\\nSHLVL = \\'1\\'\\nSSH_AGENT_PID = \\'1693\\'\\nSSH_AUTH_SOCK = \\'/run/user/1000/keyring/ssh\\'\\nTERM = \\'xterm-256color\\'\\nTZ = \\'UTC\\'\\nUSER = \\'lumen-dooh\\'\\nUSERNAME = \\'lumen-dooh\\'\\nVIRTUAL_ENV = \\'/home/lumen-dooh/.pyenv/versions/3.7.8/envs/iamport-env\\'\\nVTE_VERSION = \\'6003\\'\\nWINDOWPATH = \\'2\\'\\nXAUTHORITY = \\'/run/user/1000/gdm/Xauthority\\'\\nXDG_CONFIG_DIRS = \\'/etc/xdg/xdg-ubuntu:/etc/xdg\\'\\nXDG_CURRENT_DESKTOP = \\'ubuntu:GNOME\\'\\nXDG_DATA_DIRS = \\'/usr/share/ubuntu:/usr/local/share/:/usr/share/:/var/lib/snapd/desktop\\'\\nXDG_MENU_PREFIX = \\'gnome-\\'\\nXDG_RUNTIME_DIR = \\'/run/user/1000\\'\\nXDG_SESSION_CLASS = \\'user\\'\\nXDG_SESSION_DESKTOP = \\'ubuntu\\'\\nXDG_SESSION_TYPE = \\'x11\\'\\nXMODIFIERS = \\'@im=fcitx\\'\\n_OLD_VIRTUAL_PS1 = \\'\\\\\\\\[\\\\\\\\e]0;\\\\\\\\u@\\\\\\\\h: \\\\\\\\w\\\\\\\\a\\\\\\\\]${debian_chroot:+($debian_chroot)}\\\\\\\\[\\\\\\\\033[01;32m\\\\\\\\]\\\\\\\\u@\\\\\\\\h\\\\\\\\[\\\\\\\\033[00m\\\\\\\\]:\\\\\\\\[\\\\\\\\033[01;34m\\\\\\\\]\\\\\\\\w\\\\\\\\[\\\\\\\\033[00m\\\\\\\\]\\\\\\\\$ \\'\\nwsgi.errors = <_io.TextIOWrapper name=\\'<stderr>\\' mode=\\'w\\' encoding=\\'UTF-8\\'>\\nwsgi.file_wrapper = \\'\\'\\nwsgi.input = <django.core.handlers.wsgi.LimitedStream object at 0x7fe680d38d90>\\nwsgi.multiprocess = False\\nwsgi.multithread = True\\nwsgi.run_once = False\\nwsgi.url_scheme = \\'http\\'\\nwsgi.version = \\'(1, 0)\\'\\n\\nSettings:\\nUsing settings module config.settings\\nABSOLUTE_URL_OVERRIDES = {}\\nADMINS = []\\nALLOWED_HOSTS = []\\nAPPEND_SLASH = True\\nAUTHENTICATION_BACKENDS = [\\'django.contrib.auth.backends.ModelBackend\\']\\nAUTH_PASSWORD_VALIDATORS = \\'********************\\'\\nAUTH_USER_MODEL = \\'members.PayGoUser\\'\\nBASE_DIR = \\'/home/lumen-dooh/workspace/lumen/iamport/app\\'\\nCACHES = {\\'default\\': {\\'BACKEND\\': \\'django.core.cache.backends.locmem.LocMemCache\\'}}\\nCACHE_MIDDLEWARE_ALIAS = \\'default\\'\\nCACHE_MIDDLEWARE_KEY_PREFIX = \\'********************\\'\\nCACHE_MIDDLEWARE_SECONDS = 600\\nCSRF_COOKIE_AGE = 31449600\\nCSRF_COOKIE_DOMAIN = None\\nCSRF_COOKIE_HTTPONLY = False\\nCSRF_COOKIE_NAME = \\'csrftoken\\'\\nCSRF_COOKIE_PATH = \\'/\\'\\nCSRF_COOKIE_SAMESITE = \\'Lax\\'\\nCSRF_COOKIE_SECURE = False\\nCSRF_FAILURE_VIEW = \\'django.views.csrf.csrf_failure\\'\\nCSRF_HEADER_NAME = \\'HTTP_X_CSRFTOKEN\\'\\nCSRF_TRUSTED_ORIGINS = []\\nCSRF_USE_SESSIONS = False\\nDATABASES = {\\'default\\': {\\'ENGINE\\': \\'django.db.backends.sqlite3\\', \\'NAME\\': \\'/home/lumen-dooh/workspace/lumen/iamport/app/db.sqlite3\\', \\'ATOMIC_REQUESTS\\': False, \\'AUTOCOMMIT\\': True, \\'CONN_MAX_AGE\\': 0, \\'OPTIONS\\': {}, \\'TIME_ZONE\\': None, \\'USER\\': \\'\\', \\'PASSWORD\\': \\'********************\\', \\'HOST\\': \\'\\', \\'PORT\\': \\'\\', \\'TEST\\': {\\'CHARSET\\': None, \\'COLLATION\\': None, \\'NAME\\': None, \\'MIRROR\\': None}}}\\nDATABASE_ROUTERS = []\\nDATA_UPLOAD_MAX_MEMORY_SIZE = 2621440\\nDATA_UPLOAD_MAX_NUMBER_FIELDS = 1000\\nDATETIME_FORMAT = \\'N j, Y, P\\'\\nDATETIME_INPUT_FORMATS = [\\'%Y-%m-%d %H:%M:%S\\', \\'%Y-%m-%d %H:%M:%S.%f\\', \\'%Y-%m-%d %H:%M\\', \\'%Y-%m-%d\\', \\'%m/%d/%Y %H:%M:%S\\', \\'%m/%d/%Y %H:%M:%S.%f\\', \\'%m/%d/%Y %H:%M\\', \\'%m/%d/%Y\\', \\'%m/%d/%y %H:%M:%S\\', \\'%m/%d/%y %H:%M:%S.%f\\', \\'%m/%d/%y %H:%M\\', \\'%m/%d/%y\\']\\nDATE_FORMAT = \\'N j, Y\\'\\nDATE_INPUT_FORMATS = [\\'%Y-%m-%d\\', \\'%m/%d/%Y\\', \\'%m/%d/%y\\', \\'%b %d %Y\\', \\'%b %d, %Y\\', \\'%d %b %Y\\', \\'%d %b, %Y\\', \\'%B %d %Y\\', \\'%B %d, %Y\\', \\'%d %B %Y\\', \\'%d %B, %Y\\']\\nDEBUG = True\\nDEBUG_PROPAGATE_EXCEPTIONS = False\\nDECIMAL_SEPARATOR = \\'.\\'\\nDEFAULT_CHARSET = \\'utf-8\\'\\nDEFAULT_CONTENT_TYPE = \\'text/html\\'\\nDEFAULT_EXCEPTION_REPORTER_FILTER = \\'django.views.debug.SafeExceptionReporterFilter\\'\\nDEFAULT_FILE_STORAGE = \\'django.core.files.storage.FileSystemStorage\\'\\nDEFAULT_FROM_EMAIL = \\'webmaster@localhost\\'\\nDEFAULT_INDEX_TABLESPACE = \\'\\'\\nDEFAULT_TABLESPACE = \\'\\'\\nDISALLOWED_USER_AGENTS = []\\nEMAIL_BACKEND = \\'django.core.mail.backends.smtp.EmailBackend\\'\\nEMAIL_HOST = \\'localhost\\'\\nEMAIL_HOST_PASSWORD = \\'********************\\'\\nEMAIL_HOST_USER = \\'\\'\\nEMAIL_PORT = 25\\nEMAIL_SSL_CERTFILE = None\\nEMAIL_SSL_KEYFILE = \\'********************\\'\\nEMAIL_SUBJECT_PREFIX = \\'[Django] \\'\\nEMAIL_TIMEOUT = None\\nEMAIL_USE_LOCALTIME = False\\nEMAIL_USE_SSL = False\\nEMAIL_USE_TLS = False\\nFILE_CHARSET = \\'utf-8\\'\\nFILE_UPLOAD_DIRECTORY_PERMISSIONS = None\\nFILE_UPLOAD_HANDLERS = [\\'django.core.files.uploadhandler.MemoryFileUploadHandler\\', \\'django.core.files.uploadhandler.TemporaryFileUploadHandler\\']\\nFILE_UPLOAD_MAX_MEMORY_SIZE = 2621440\\nFILE_UPLOAD_PERMISSIONS = None\\nFILE_UPLOAD_TEMP_DIR = None\\nFIRST_DAY_OF_WEEK = 0\\nFIXTURE_DIRS = []\\nFORCE_SCRIPT_NAME = None\\nFORMAT_MODULE_PATH = None\\nFORM_RENDERER = \\'django.forms.renderers.DjangoTemplates\\'\\nIGNORABLE_404_URLS = []\\nINSTALLED_APPS = [\\'django.contrib.admin\\', \\'django.contrib.auth\\', \\'django.contrib.contenttypes\\', \\'django.contrib.sessions\\', \\'django.contrib.messages\\', \\'django.contrib.staticfiles\\', \\'members.apps.MembersConfig\\', \\'owners.apps.OwnersConfig\\', \\'paymethod.apps.PaymethodConfig\\', \\'django_extensions\\', \\'rest_framework\\']\\nINTERNAL_IPS = []\\nLANGUAGES = [(\\'af\\', \\'Afrikaans\\'), (\\'ar\\', \\'Arabic\\'), (\\'ast\\', \\'Asturian\\'), (\\'az\\', \\'Azerbaijani\\'), (\\'bg\\', \\'Bulgarian\\'), (\\'be\\', \\'Belarusian\\'), (\\'bn\\', \\'Bengali\\'), (\\'br\\', \\'Breton\\'), (\\'bs\\', \\'Bosnian\\'), (\\'ca\\', \\'Catalan\\'), (\\'cs\\', \\'Czech\\'), (\\'cy\\', \\'Welsh\\'), (\\'da\\', \\'Danish\\'), (\\'de\\', \\'German\\'), (\\'dsb\\', \\'Lower Sorbian\\'), (\\'el\\', \\'Greek\\'), (\\'en\\', \\'English\\'), (\\'en-au\\', \\'Australian English\\'), (\\'en-gb\\', \\'British English\\'), (\\'eo\\', \\'Esperanto\\'), (\\'es\\', \\'Spanish\\'), (\\'es-ar\\', \\'Argentinian Spanish\\'), (\\'es-co\\', \\'Colombian Spanish\\'), (\\'es-mx\\', \\'Mexican Spanish\\'), (\\'es-ni\\', \\'Nicaraguan Spanish\\'), (\\'es-ve\\', \\'Venezuelan Spanish\\'), (\\'et\\', \\'Estonian\\'), (\\'eu\\', \\'Basque\\'), (\\'fa\\', \\'Persian\\'), (\\'fi\\', \\'Finnish\\'), (\\'fr\\', \\'French\\'), (\\'fy\\', \\'Frisian\\'), (\\'ga\\', \\'Irish\\'), (\\'gd\\', \\'Scottish Gaelic\\'), (\\'gl\\', \\'Galician\\'), (\\'he\\', \\'Hebrew\\'), (\\'hi\\', \\'Hindi\\'), (\\'hr\\', \\'Croatian\\'), (\\'hsb\\', \\'Upper Sorbian\\'), (\\'hu\\', \\'Hungarian\\'), (\\'hy\\', \\'Armenian\\'), (\\'ia\\', \\'Interlingua\\'), (\\'id\\', \\'Indonesian\\'), (\\'io\\', \\'Ido\\'), (\\'is\\', \\'Icelandic\\'), (\\'it\\', \\'Italian\\'), (\\'ja\\', \\'Japanese\\'), (\\'ka\\', \\'Georgian\\'), (\\'kab\\', \\'Kabyle\\'), (\\'kk\\', \\'Kazakh\\'), (\\'km\\', \\'Khmer\\'), (\\'kn\\', \\'Kannada\\'), (\\'ko\\', \\'Korean\\'), (\\'lb\\', \\'Luxembourgish\\'), (\\'lt\\', \\'Lithuanian\\'), (\\'lv\\', \\'Latvian\\'), (\\'mk\\', \\'Macedonian\\'), (\\'ml\\', \\'Malayalam\\'), (\\'mn\\', \\'Mongolian\\'), (\\'mr\\', \\'Marathi\\'), (\\'my\\', \\'Burmese\\'), (\\'nb\\', \\'Norwegian Bokmål\\'), (\\'ne\\', \\'Nepali\\'), (\\'nl\\', \\'Dutch\\'), (\\'nn\\', \\'Norwegian Nynorsk\\'), (\\'os\\', \\'Ossetic\\'), (\\'pa\\', \\'Punjabi\\'), (\\'pl\\', \\'Polish\\'), (\\'pt\\', \\'Portuguese\\'), (\\'pt-br\\', \\'Brazilian Portuguese\\'), (\\'ro\\', \\'Romanian\\'), (\\'ru\\', \\'Russian\\'), (\\'sk\\', \\'Slovak\\'), (\\'sl\\', \\'Slovenian\\'), (\\'sq\\', \\'Albanian\\'), (\\'sr\\', \\'Serbian\\'), (\\'sr-latn\\', \\'Serbian Latin\\'), (\\'sv\\', \\'Swedish\\'), (\\'sw\\', \\'Swahili\\'), (\\'ta\\', \\'Tamil\\'), (\\'te\\', \\'Telugu\\'), (\\'th\\', \\'Thai\\'), (\\'tr\\', \\'Turkish\\'), (\\'tt\\', \\'Tatar\\'), (\\'udm\\', \\'Udmurt\\'), (\\'uk\\', \\'Ukrainian\\'), (\\'ur\\', \\'Urdu\\'), (\\'vi\\', \\'Vietnamese\\'), (\\'zh-hans\\', \\'Simplified Chinese\\'), (\\'zh-hant\\', \\'Traditional Chinese\\')]\\nLANGUAGES_BIDI = [\\'he\\', \\'ar\\', \\'fa\\', \\'ur\\']\\nLANGUAGE_CODE = \\'en-us\\'\\nLANGUAGE_COOKIE_AGE = None\\nLANGUAGE_COOKIE_DOMAIN = None\\nLANGUAGE_COOKIE_NAME = \\'django_language\\'\\nLANGUAGE_COOKIE_PATH = \\'/\\'\\nLOCALE_PATHS = []\\nLOGGING = {}\\nLOGGING_CONFIG = \\'logging.config.dictConfig\\'\\nLOGIN_REDIRECT_URL = \\'/accounts/profile/\\'\\nLOGIN_URL = \\'/accounts/login/\\'\\nLOGOUT_REDIRECT_URL = None\\nMANAGERS = []\\nMEDIA_ROOT = \\'\\'\\nMEDIA_URL = \\'\\'\\nMESSAGE_STORAGE = \\'django.contrib.messages.storage.fallback.FallbackStorage\\'\\nMIDDLEWARE = [\\'django.middleware.security.SecurityMiddleware\\', \\'django.contrib.sessions.middleware.SessionMiddleware\\', \\'django.middleware.common.CommonMiddleware\\', \\'django.middleware.csrf.CsrfViewMiddleware\\', \\'django.contrib.auth.middleware.AuthenticationMiddleware\\', \\'django.contrib.messages.middleware.MessageMiddleware\\', \\'django.middleware.clickjacking.XFrameOptionsMiddleware\\']\\nMIGRATION_MODULES = {}\\nMONTH_DAY_FORMAT = \\'F j\\'\\nNUMBER_GROUPING = 0\\nPASSWORD_HASHERS = \\'********************\\'\\nPASSWORD_RESET_TIMEOUT_DAYS = \\'********************\\'\\nPREPEND_WWW = False\\nROOT_URLCONF = \\'config.urls\\'\\nSECRET_KEY = \\'********************\\'\\nSECURE_BROWSER_XSS_FILTER = False\\nSECURE_CONTENT_TYPE_NOSNIFF = False\\nSECURE_HSTS_INCLUDE_SUBDOMAINS = False\\nSECURE_HSTS_PRELOAD = False\\nSECURE_HSTS_SECONDS = 0\\nSECURE_PROXY_SSL_HEADER = None\\nSECURE_REDIRECT_EXEMPT = []\\nSECURE_SSL_HOST = None\\nSECURE_SSL_REDIRECT = False\\nSERVER_EMAIL = \\'root@localhost\\'\\nSESSION_CACHE_ALIAS = \\'default\\'\\nSESSION_COOKIE_AGE = 1209600\\nSESSION_COOKIE_DOMAIN = None\\nSESSION_COOKIE_HTTPONLY = True\\nSESSION_COOKIE_NAME = \\'sessionid\\'\\nSESSION_COOKIE_PATH = \\'/\\'\\nSESSION_COOKIE_SAMESITE = \\'Lax\\'\\nSESSION_COOKIE_SECURE = False\\nSESSION_ENGINE = \\'django.contrib.sessions.backends.db\\'\\nSESSION_EXPIRE_AT_BROWSER_CLOSE = False\\nSESSION_FILE_PATH = None\\nSESSION_SAVE_EVERY_REQUEST = False\\nSESSION_SERIALIZER = \\'django.contrib.sessions.serializers.JSONSerializer\\'\\nSETTINGS_MODULE = \\'config.settings\\'\\nSHORT_DATETIME_FORMAT = \\'m/d/Y P\\'\\nSHORT_DATE_FORMAT = \\'m/d/Y\\'\\nSIGNING_BACKEND = \\'django.core.signing.TimestampSigner\\'\\nSILENCED_SYSTEM_CHECKS = []\\nSTATICFILES_DIRS = []\\nSTATICFILES_FINDERS = [\\'django.contrib.staticfiles.finders.FileSystemFinder\\', \\'django.contrib.staticfiles.finders.AppDirectoriesFinder\\']\\nSTATICFILES_STORAGE = \\'django.contrib.staticfiles.storage.StaticFilesStorage\\'\\nSTATIC_ROOT = None\\nSTATIC_URL = \\'/static/\\'\\nTEMPLATES = [{\\'BACKEND\\': \\'django.template.backends.django.DjangoTemplates\\', \\'DIRS\\': [], \\'APP_DIRS\\': True, \\'OPTIONS\\': {\\'context_processors\\': [\\'django.template.context_processors.debug\\', \\'django.template.context_processors.request\\', \\'django.contrib.auth.context_processors.auth\\', \\'django.contrib.messages.context_processors.messages\\']}}]\\nTEST_NON_SERIALIZED_APPS = []\\nTEST_RUNNER = \\'django.test.runner.DiscoverRunner\\'\\nTHOUSAND_SEPARATOR = \\',\\'\\nTIME_FORMAT = \\'P\\'\\nTIME_INPUT_FORMATS = [\\'%H:%M:%S\\', \\'%H:%M:%S.%f\\', \\'%H:%M\\']\\nTIME_ZONE = \\'UTC\\'\\nUSE_I18N = True\\nUSE_L10N = True\\nUSE_THOUSAND_SEPARATOR = False\\nUSE_TZ = True\\nUSE_X_FORWARDED_HOST = False\\nUSE_X_FORWARDED_PORT = False\\nWSGI_APPLICATION = \\'config.wsgi.application\\'\\nX_FRAME_OPTIONS = \\'SAMEORIGIN\\'\\nYEAR_MONTH_FORMAT = \\'F Y\\'\\n\\n\\nYou\\'re seeing this error because you have DEBUG = True in your\\nDjango settings file. Change that to False, and Django will\\ndisplay a standard page generated by the handler for this status code.\\n\\n'"
      ]
     },
     "execution_count": 2,
     "metadata": {},
     "output_type": "execute_result"
    }
   ],
   "source": [
    "Owner.objects.all().delete()\n",
    "url = 'http://127.0.0.1:8000/owners/list/'\n",
    "data={\n",
    "    'business_license_number': 'af',\n",
    "    'business_name': '비영이짝태111221',\n",
    "    'business_classification': '개인사업자',\n",
    "    'sales_channel': '0',\n",
    "    'business_main_item': '음식',\n",
    "    'application_route': '0004',\n",
    "    'paymangers' : [\n",
    "        {\n",
    "          \"name\":'박선애',\n",
    "          \"department\":'경영관리팀',\n",
    "          \"position\":'팀장',\n",
    "          \"phone_number\":'01032145512',\n",
    "          \"email\":'se@gmail.com',\n",
    "        },\n",
    "    ]\n",
    "   \n",
    "}\n",
    "res = requests.post(url, data=data)\n",
    "res.text"
   ]
  },
  {
   "cell_type": "code",
   "execution_count": 3,
   "id": "straight-powder",
   "metadata": {},
   "outputs": [],
   "source": [
    "headers = {\n",
    "    \"Accept\": \"application/json, text/javascript, */*; q=0.01\",\n",
    "    \"Accept-Encoding\": \"gzip, deflate\",\n",
    "    \"Accept-Language\": \"ko-KR,ko;q=0.9,en-US;q=0.8,en;q=0.7\",\n",
    "    \"Connection\": \"keep-alive\",\n",
    "    \"Content-Length\": \"171\",\n",
    "    \"Content-Type\": \"application/x-www-form-urlencoded; charset=UTF-8\",\n",
    "    \"Cookie\": \"userInputId=admin; JSESSIONID=9B9A3BA922EBF02D511CA00F1275DE57; savedPopupWindow_w=1000; savedPopupWindow_h=699\",\n",
    "    \"Host\": \"admin.pay-go.co.kr\",\n",
    "    \"Origin\": \"http://admin.pay-go.co.kr\",\n",
    "    \"Referer\": \"http://admin.pay-go.co.kr/admin/trans/TransForm.do\",\n",
    "    \"User-Agent\": \"Mozilla/5.0 (X11; Linux x86_64) AppleWebKit/537.36 (KHTML, like Gecko) Chrome/87.0.4280.88 Safari/537.36\",\n",
    "    \"X-Requested-With\": \"XMLHttpRequest\",\n",
    "}"
   ]
  },
  {
   "cell_type": "code",
   "execution_count": 4,
   "id": "drawn-accident",
   "metadata": {},
   "outputs": [],
   "source": [
    "data = {\n",
    "    \"coNo\": \"\",\n",
    "    \"useDate\":\"\" ,    \n",
    "    \"frDt\": \"2021/01/02\",\n",
    "    \"toDt\": \"2021/02/01\",\n",
    "    \"selCode\": \"\",\n",
    "    \"EmpNm\": \"\",\n",
    "    \"selRecv\":\"\" ,\n",
    "    \"selState\": \"\",\n",
    "    \"frMM\": \"2021/01\",\n",
    "    \"toMM\": \"2021/01\",\n",
    "    \"_search\": False,\n",
    "    \"nd\": \"1612153158905\",\n",
    "    \"rows\": \"50\",\n",
    "    \"page\": \"1\",\n",
    "    \"sidx\": \"\",\n",
    "    \"sord\": \"asc\",\n",
    "}\n",
    "url= 'http://admin.pay-go.co.kr/admin/sales/NewContSearchAjax.do'\n"
   ]
  },
  {
   "cell_type": "code",
   "execution_count": 5,
   "id": "jewish-baseball",
   "metadata": {},
   "outputs": [],
   "source": [
    "res = requests.post(url, headers=headers, data=data)\n",
    "contents = res.json()"
   ]
  },
  {
   "cell_type": "code",
   "execution_count": 6,
   "id": "better-bachelor",
   "metadata": {
    "scrolled": true
   },
   "outputs": [
    {
     "data": {
      "text/plain": [
       "[{'business_license_number': '2230560775',\n",
       "  'business_name': '볼트떡볶이신림점',\n",
       "  'business_classification': '개인사업자',\n",
       "  'sales_channel': '0',\n",
       "  'business_main_item': '음식',\n",
       "  'application_route': '0004'},\n",
       " {'business_license_number': '8435400467',\n",
       "  'business_name': '비영이짝태',\n",
       "  'business_classification': '개인사업자',\n",
       "  'sales_channel': '0',\n",
       "  'business_main_item': '음식',\n",
       "  'application_route': '0004'},\n",
       " {'business_license_number': '7995500172',\n",
       "  'business_name': '오나의커피님',\n",
       "  'business_classification': '개인사업자',\n",
       "  'sales_channel': '0',\n",
       "  'business_main_item': '음식',\n",
       "  'application_route': '0004'},\n",
       " {'business_license_number': '3888801080',\n",
       "  'business_name': '(주)더메이저그룹',\n",
       "  'business_classification': '개인사업자',\n",
       "  'sales_channel': '0',\n",
       "  'business_main_item': '음식',\n",
       "  'application_route': '1000'},\n",
       " {'business_license_number': '2021881259',\n",
       "  'business_name': '몽헤브',\n",
       "  'business_classification': '개인사업자',\n",
       "  'sales_channel': '0',\n",
       "  'business_main_item': '음식',\n",
       "  'application_route': '0004'},\n",
       " {'business_license_number': '2071122289',\n",
       "  'business_name': '허비허바',\n",
       "  'business_classification': '개인사업자',\n",
       "  'sales_channel': '0',\n",
       "  'business_main_item': '음식',\n",
       "  'application_route': '0004'},\n",
       " {'business_license_number': '2160469825',\n",
       "  'business_name': '산동차돌짬뽕',\n",
       "  'business_classification': '개인사업자',\n",
       "  'sales_channel': '0',\n",
       "  'business_main_item': '음식',\n",
       "  'application_route': '0004'},\n",
       " {'business_license_number': '3052214906',\n",
       "  'business_name': '임실치즈피자',\n",
       "  'business_classification': '개인사업자',\n",
       "  'sales_channel': '0',\n",
       "  'business_main_item': '음식',\n",
       "  'application_route': '0004'},\n",
       " {'business_license_number': '3052236477',\n",
       "  'business_name': '어가갈치조림전문점',\n",
       "  'business_classification': '개인사업자',\n",
       "  'sales_channel': '0',\n",
       "  'business_main_item': '음식',\n",
       "  'application_route': '0004'},\n",
       " {'business_license_number': '3140549718',\n",
       "  'business_name': '주순희찌개마을시골촌',\n",
       "  'business_classification': '개인사업자',\n",
       "  'sales_channel': '0',\n",
       "  'business_main_item': '음식',\n",
       "  'application_route': '0004'},\n",
       " {'business_license_number': '3142151233',\n",
       "  'business_name': '콩&낙지',\n",
       "  'business_classification': '개인사업자',\n",
       "  'sales_channel': '0',\n",
       "  'business_main_item': '음식',\n",
       "  'application_route': '0004'},\n",
       " {'business_license_number': '3570601760',\n",
       "  'business_name': '오늘 닭강정',\n",
       "  'business_classification': '개인사업자',\n",
       "  'sales_channel': '0',\n",
       "  'business_main_item': '음식',\n",
       "  'application_route': '0004'},\n",
       " {'business_license_number': '4023626729',\n",
       "  'business_name': '참치정육점',\n",
       "  'business_classification': '개인사업자',\n",
       "  'sales_channel': '0',\n",
       "  'business_main_item': '음식',\n",
       "  'application_route': '0004'},\n",
       " {'business_license_number': '4400401807',\n",
       "  'business_name': '신분준할머니기러기칼국수',\n",
       "  'business_classification': '개인사업자',\n",
       "  'sales_channel': '0',\n",
       "  'business_main_item': '음식',\n",
       "  'application_route': '0004'},\n",
       " {'business_license_number': '6013143320',\n",
       "  'business_name': '구이구이쪽갈비',\n",
       "  'business_classification': '개인사업자',\n",
       "  'sales_channel': '0',\n",
       "  'business_main_item': '음식',\n",
       "  'application_route': '0004'},\n",
       " {'business_license_number': '7010601841',\n",
       "  'business_name': '노랑물고기',\n",
       "  'business_classification': '개인사업자',\n",
       "  'sales_channel': '0',\n",
       "  'business_main_item': '음식',\n",
       "  'application_route': '0004'},\n",
       " {'business_license_number': '7384400564',\n",
       "  'business_name': '피자서클법동점',\n",
       "  'business_classification': '개인사업자',\n",
       "  'sales_channel': '0',\n",
       "  'business_main_item': '음식',\n",
       "  'application_route': '0004'},\n",
       " {'business_license_number': '7730600342',\n",
       "  'business_name': '카페쁘띠빌라쥬',\n",
       "  'business_classification': '개인사업자',\n",
       "  'sales_channel': '0',\n",
       "  'business_main_item': '음식',\n",
       "  'application_route': '0004'},\n",
       " {'business_license_number': '7912300731',\n",
       "  'business_name': '마당두마리치킨피자',\n",
       "  'business_classification': '개인사업자',\n",
       "  'sales_channel': '0',\n",
       "  'business_main_item': '음식',\n",
       "  'application_route': '0004'},\n",
       " {'business_license_number': '8833900730',\n",
       "  'business_name': '벌크커피(중리)',\n",
       "  'business_classification': '개인사업자',\n",
       "  'sales_channel': '0',\n",
       "  'business_main_item': '음식',\n",
       "  'application_route': '0004'},\n",
       " {'business_license_number': '8884400699',\n",
       "  'business_name': '신화신가네매운떡볶이',\n",
       "  'business_classification': '개인사업자',\n",
       "  'sales_channel': '0',\n",
       "  'business_main_item': '음식',\n",
       "  'application_route': '0004'},\n",
       " {'business_license_number': '3998601956',\n",
       "  'business_name': '해품남영어조합법인',\n",
       "  'business_classification': '개인사업자',\n",
       "  'sales_channel': '0',\n",
       "  'business_main_item': '음식',\n",
       "  'application_route': '1000'},\n",
       " {'business_license_number': '2548801943',\n",
       "  'business_name': '(주)더이노',\n",
       "  'business_classification': '개인사업자',\n",
       "  'sales_channel': '0',\n",
       "  'business_main_item': '음식',\n",
       "  'application_route': '1000'},\n",
       " {'business_license_number': '4167700319',\n",
       "  'business_name': '비타민',\n",
       "  'business_classification': '개인사업자',\n",
       "  'sales_channel': '0',\n",
       "  'business_main_item': '음식',\n",
       "  'application_route': '0001'},\n",
       " {'business_license_number': '7238801153',\n",
       "  'business_name': '(주)타이밍인베스트',\n",
       "  'business_classification': '개인사업자',\n",
       "  'sales_channel': '0',\n",
       "  'business_main_item': '음식',\n",
       "  'application_route': '1000'},\n",
       " {'business_license_number': '4070719354',\n",
       "  'business_name': '피자스쿨',\n",
       "  'business_classification': '개인사업자',\n",
       "  'sales_channel': '0',\n",
       "  'business_main_item': '음식',\n",
       "  'application_route': '0004'},\n",
       " {'business_license_number': '7298102020',\n",
       "  'business_name': '주식회사 온미르코리아',\n",
       "  'business_classification': '개인사업자',\n",
       "  'sales_channel': '0',\n",
       "  'business_main_item': '음식',\n",
       "  'application_route': '1000'},\n",
       " {'business_license_number': '6162445467',\n",
       "  'business_name': '썬황궁',\n",
       "  'business_classification': '개인사업자',\n",
       "  'sales_channel': '0',\n",
       "  'business_main_item': '음식',\n",
       "  'application_route': '0001'},\n",
       " {'business_license_number': '2054075285',\n",
       "  'business_name': '나눔',\n",
       "  'business_classification': '개인사업자',\n",
       "  'sales_channel': '0',\n",
       "  'business_main_item': '음식',\n",
       "  'application_route': '1000'},\n",
       " {'business_license_number': '6397700246',\n",
       "  'business_name': '카페인중독 정왕점',\n",
       "  'business_classification': '개인사업자',\n",
       "  'sales_channel': '0',\n",
       "  'business_main_item': '음식',\n",
       "  'application_route': '0001'},\n",
       " {'business_license_number': '9310250001',\n",
       "  'business_name': '김기인',\n",
       "  'business_classification': '개인사업자',\n",
       "  'sales_channel': '0',\n",
       "  'business_main_item': '음식',\n",
       "  'application_route': '0004'},\n",
       " {'business_license_number': '8248801456',\n",
       "  'business_name': '주식회사 거잔',\n",
       "  'business_classification': '개인사업자',\n",
       "  'sales_channel': '0',\n",
       "  'business_main_item': '음식',\n",
       "  'application_route': '1000'},\n",
       " {'business_license_number': '1638600950',\n",
       "  'business_name': '(주)한국매일투자그룹',\n",
       "  'business_classification': '개인사업자',\n",
       "  'sales_channel': '0',\n",
       "  'business_main_item': '음식',\n",
       "  'application_route': '0004'},\n",
       " {'business_license_number': '6442101143',\n",
       "  'business_name': 'JP투자그룹',\n",
       "  'business_classification': '개인사업자',\n",
       "  'sales_channel': '0',\n",
       "  'business_main_item': '음식',\n",
       "  'application_route': '0004'},\n",
       " {'business_license_number': '2276100474',\n",
       "  'business_name': '시티인베스트',\n",
       "  'business_classification': '개인사업자',\n",
       "  'sales_channel': '0',\n",
       "  'business_main_item': '음식',\n",
       "  'application_route': '0004'},\n",
       " {'business_license_number': '3244500741',\n",
       "  'business_name': '플랜투자그룹',\n",
       "  'business_classification': '개인사업자',\n",
       "  'sales_channel': '1',\n",
       "  'business_main_item': '음식',\n",
       "  'application_route': '0004'},\n",
       " {'business_license_number': '1100269732',\n",
       "  'business_name': '홍대98돈까스',\n",
       "  'business_classification': '개인사업자',\n",
       "  'sales_channel': '0',\n",
       "  'business_main_item': '음식',\n",
       "  'application_route': '0001'},\n",
       " {'business_license_number': '1111415964',\n",
       "  'business_name': '이서림2호점',\n",
       "  'business_classification': '개인사업자',\n",
       "  'sales_channel': '0',\n",
       "  'business_main_item': '음식',\n",
       "  'application_route': '0001'},\n",
       " {'business_license_number': '1200973678',\n",
       "  'business_name': '전주뷔페',\n",
       "  'business_classification': '개인사업자',\n",
       "  'sales_channel': '0',\n",
       "  'business_main_item': '음식',\n",
       "  'application_route': '0001'},\n",
       " {'business_license_number': '1382300871',\n",
       "  'business_name': '아리나 블루문',\n",
       "  'business_classification': '개인사업자',\n",
       "  'sales_channel': '0',\n",
       "  'business_main_item': '음식',\n",
       "  'application_route': '0001'},\n",
       " {'business_license_number': '1613000582',\n",
       "  'business_name': '그루비뮤직타운',\n",
       "  'business_classification': '개인사업자',\n",
       "  'sales_channel': '0',\n",
       "  'business_main_item': '음식',\n",
       "  'application_route': '0004'},\n",
       " {'business_license_number': '1685100410',\n",
       "  'business_name': '메르시',\n",
       "  'business_classification': '개인사업자',\n",
       "  'sales_channel': '0',\n",
       "  'business_main_item': '음식',\n",
       "  'application_route': '0001'},\n",
       " {'business_license_number': '1713300751',\n",
       "  'business_name': '미인',\n",
       "  'business_classification': '개인사업자',\n",
       "  'sales_channel': '0',\n",
       "  'business_main_item': '음식',\n",
       "  'application_route': '0001'},\n",
       " {'business_license_number': '1731700801',\n",
       "  'business_name': '소나기가요룸',\n",
       "  'business_classification': '개인사업자',\n",
       "  'sales_channel': '0',\n",
       "  'business_main_item': '음식',\n",
       "  'application_route': '0004'},\n",
       " {'business_license_number': '2014900539',\n",
       "  'business_name': '미소개발',\n",
       "  'business_classification': '개인사업자',\n",
       "  'sales_channel': '0',\n",
       "  'business_main_item': '음식',\n",
       "  'application_route': '0001'},\n",
       " {'business_license_number': '2080219752',\n",
       "  'business_name': '세이클럽',\n",
       "  'business_classification': '개인사업자',\n",
       "  'sales_channel': '0',\n",
       "  'business_main_item': '음식',\n",
       "  'application_route': '0001'},\n",
       " {'business_license_number': '2161775007',\n",
       "  'business_name': '마마단란주점',\n",
       "  'business_classification': '개인사업자',\n",
       "  'sales_channel': '0',\n",
       "  'business_main_item': '음식',\n",
       "  'application_route': '0004'},\n",
       " {'business_license_number': '2257100308',\n",
       "  'business_name': '턴',\n",
       "  'business_classification': '개인사업자',\n",
       "  'sales_channel': '0',\n",
       "  'business_main_item': '음식',\n",
       "  'application_route': '0001'},\n",
       " {'business_license_number': '2271718476',\n",
       "  'business_name': '서울24시',\n",
       "  'business_classification': '개인사업자',\n",
       "  'sales_channel': '0',\n",
       "  'business_main_item': '음식',\n",
       "  'application_route': '0001'},\n",
       " {'business_license_number': '2641800104',\n",
       "  'business_name': '돌담집',\n",
       "  'business_classification': '개인사업자',\n",
       "  'sales_channel': '0',\n",
       "  'business_main_item': '음식',\n",
       "  'application_route': '0001'}]"
      ]
     },
     "execution_count": 6,
     "metadata": {},
     "output_type": "execute_result"
    }
   ],
   "source": [
    "fran_list = list()\n",
    "for data in contents['rows']:\n",
    "    fran = dict()\n",
    "    fran['business_license_number']= data['co_no']\n",
    "    fran['business_name'] = data['co_nm']\n",
    "    fran['business_classification'] = '개인사업자'\n",
    "    fran['sales_channel'] = data['condoc']\n",
    "    fran['business_main_item'] = '음식'\n",
    "    fran['application_route'] = data['recv_channel']\n",
    "    fran_list.append(fran)\n",
    "    \n",
    "fran_list"
   ]
  },
  {
   "cell_type": "code",
   "execution_count": null,
   "id": "operating-humanitarian",
   "metadata": {},
   "outputs": [],
   "source": []
  },
  {
   "cell_type": "code",
   "execution_count": 7,
   "id": "joined-punishment",
   "metadata": {},
   "outputs": [],
   "source": [
    "p1,_ = PayGoComputationalManager.objects.get_or_create(\n",
    "    name='김기인',\n",
    "    department='영업관리팀',\n",
    "    position='대리',\n",
    "    phone_number='01032145567',\n",
    "    email='giin@gmail.com',\n",
    ")\n",
    "p2,_=PayGoComputationalManager.objects.get_or_create(\n",
    "    name='김성준',\n",
    "    department='영업관리팀',\n",
    "    position='팀장',\n",
    "    phone_number='01022145512',\n",
    "    email='sj@gmail.com',\n",
    ")\n",
    "p3, _=PayGoComputationalManager.objects.get_or_create(  \n",
    "    name='박선애',\n",
    "    department='경영관리팀',\n",
    "    position='팀장',\n",
    "    phone_number='01032145512',\n",
    "    email='se@gmail.com',\n",
    ")"
   ]
  },
  {
   "cell_type": "code",
   "execution_count": null,
   "id": "extended-dictionary",
   "metadata": {},
   "outputs": [],
   "source": [
    "p1"
   ]
  },
  {
   "cell_type": "code",
   "execution_count": 8,
   "id": "coral-clause",
   "metadata": {
    "scrolled": true
   },
   "outputs": [
    {
     "name": "stdout",
     "output_type": "stream",
     "text": [
      "2230560775 볼트떡볶이신림점 \n",
      "8435400467 비영이짝태 \n",
      "7995500172 오나의커피님 \n",
      "3888801080 (주)더메이저그룹 \n",
      "2021881259 몽헤브 \n",
      "2071122289 허비허바 \n",
      "2160469825 산동차돌짬뽕 \n",
      "3052214906 임실치즈피자 \n",
      "3052236477 어가갈치조림전문점 \n",
      "3140549718 주순희찌개마을시골촌 \n",
      "3142151233 콩&낙지 \n",
      "3570601760 오늘 닭강정 \n",
      "4023626729 참치정육점 \n",
      "4400401807 신분준할머니기러기칼국수 \n",
      "6013143320 구이구이쪽갈비 \n",
      "7010601841 노랑물고기 \n",
      "7384400564 피자서클법동점 \n",
      "7730600342 카페쁘띠빌라쥬 \n",
      "7912300731 마당두마리치킨피자 \n",
      "8833900730 벌크커피(중리) \n",
      "8884400699 신화신가네매운떡볶이 \n",
      "3998601956 해품남영어조합법인 \n",
      "2548801943 (주)더이노 \n",
      "4167700319 비타민 \n",
      "7238801153 (주)타이밍인베스트 \n",
      "4070719354 피자스쿨 \n",
      "7298102020 주식회사 온미르코리아 \n",
      "6162445467 썬황궁 \n",
      "2054075285 나눔 \n",
      "6397700246 카페인중독 정왕점 \n",
      "9310250001 김기인 \n",
      "8248801456 주식회사 거잔 \n",
      "1638600950 (주)한국매일투자그룹 \n",
      "6442101143 JP투자그룹 \n",
      "2276100474 시티인베스트 \n",
      "3244500741 플랜투자그룹 \n",
      "1100269732 홍대98돈까스 \n",
      "1111415964 이서림2호점 \n",
      "1200973678 전주뷔페 \n",
      "1382300871 아리나 블루문 \n",
      "1613000582 그루비뮤직타운 \n",
      "1685100410 메르시 \n",
      "1713300751 미인 \n",
      "1731700801 소나기가요룸 \n",
      "2014900539 미소개발 \n",
      "2080219752 세이클럽 \n",
      "2161775007 마마단란주점 \n",
      "2257100308 턴 \n",
      "2271718476 서울24시 \n",
      "2641800104 돌담집 \n"
     ]
    }
   ],
   "source": [
    "for i in fran_list:\n",
    "    \n",
    "    try:\n",
    "\n",
    "        owner,_ = Owner.objects.get_or_create( \\\n",
    "            business_license_number = i['business_license_number'],\\\n",
    "            business_classification=i['business_classification'],\\\n",
    "            business_name=i['business_name'],\\\n",
    "            business_main_item=i['business_main_item'],\\\n",
    "            application_route=i['application_route'],\\\n",
    "            sales_channel=i['sales_channel'],\\\n",
    "#             paygo_computation_manager=p1\n",
    "        )\n",
    "        [owner.pay_managers.add(mg)for mg in [p1,p2,p3]]\n",
    "#         owner.paygo_computation_manager.add(p2)\n",
    "        print(owner)\n",
    "    except Exception as e:\n",
    "        print('error', e)\n"
   ]
  },
  {
   "cell_type": "markdown",
   "id": "aggressive-multiple",
   "metadata": {},
   "source": [
    "# m2m 일때 "
   ]
  },
  {
   "cell_type": "code",
   "execution_count": null,
   "id": "imposed-reservoir",
   "metadata": {
    "scrolled": true
   },
   "outputs": [],
   "source": [
    "for i in fran_list:\n",
    "    try:\n",
    "\n",
    "        owner,_ = Owner.objects.get_or_create( \\\n",
    "            business_license_number = i['business_license_number'],\\\n",
    "            business_classification=i['business_classification'],\\\n",
    "            business_name=i['business_name'],\\\n",
    "            business_main_item=i['business_main_item'],\\\n",
    "            application_route=i['application_route'],\\\n",
    "            sales_channel=i['sales_channel'],\\\n",
    "        )\n",
    "        [owner.paymangers.add(mg)for mg in [p1,p2,p3]]\n",
    "        print(owner)\n",
    "    except Exception as e:\n",
    "        print('error', e)\n"
   ]
  },
  {
   "cell_type": "code",
   "execution_count": null,
   "id": "latter-wisconsin",
   "metadata": {},
   "outputs": [],
   "source": [
    "Owner.objects.all()"
   ]
  },
  {
   "cell_type": "code",
   "execution_count": null,
   "id": "constitutional-invasion",
   "metadata": {},
   "outputs": [],
   "source": []
  },
  {
   "cell_type": "code",
   "execution_count": null,
   "id": "expensive-knitting",
   "metadata": {},
   "outputs": [],
   "source": [
    "file_path = \"./fran_list.json\"\n",
    "\n",
    "with open(file_path, 'w') as outfile:\n",
    "    json.dump(fran_list, outfile)"
   ]
  },
  {
   "cell_type": "code",
   "execution_count": null,
   "id": "precise-chance",
   "metadata": {},
   "outputs": [],
   "source": [
    "with open(file_path, 'r') as json_file:\n",
    "    json_data = json.load(json_file)"
   ]
  },
  {
   "cell_type": "code",
   "execution_count": null,
   "id": "documentary-fireplace",
   "metadata": {},
   "outputs": [],
   "source": [
    "json_data"
   ]
  },
  {
   "cell_type": "code",
   "execution_count": null,
   "id": "caroline-immunology",
   "metadata": {},
   "outputs": [],
   "source": [
    "for i in Owner.objects.all():\n",
    "    print(i.paygo_computation_manager)"
   ]
  },
  {
   "cell_type": "code",
   "execution_count": null,
   "id": "patent-account",
   "metadata": {},
   "outputs": [],
   "source": [
    "Owner.objects.all().delete()"
   ]
  },
  {
   "cell_type": "code",
   "execution_count": null,
   "id": "dedicated-railway",
   "metadata": {},
   "outputs": [],
   "source": [
    "url = 'http://127.0.0.1:8000/owners/list/'\n",
    "data={\n",
    "    'business_license_number': '1113131dddassdssfas31dfdd1ddd1',\n",
    "    'business_name': '비영이짝태111221',\n",
    "    'business_classification': '개인사업자',\n",
    "    'sales_channel': '0',\n",
    "    'business_main_item': '음식',\n",
    "    'application_route': '0004',\n",
    "    'paymangers' : [\n",
    "        {\n",
    "          \"name\":'박선애',\n",
    "          \"department\":'경영관리팀',\n",
    "          \"position\":'팀장',\n",
    "          \"phone_number\":'01032145512',\n",
    "          \"email\":'se@gmail.com',\n",
    "        },\n",
    "    ]\n",
    "}\n",
    "res = requests.post(url, data=data)\n",
    "res.text"
   ]
  },
  {
   "cell_type": "code",
   "execution_count": null,
   "id": "strange-premium",
   "metadata": {},
   "outputs": [],
   "source": []
  },
  {
   "cell_type": "code",
   "execution_count": null,
   "id": "constant-family",
   "metadata": {},
   "outputs": [],
   "source": []
  },
  {
   "cell_type": "code",
   "execution_count": null,
   "id": "dried-fleece",
   "metadata": {},
   "outputs": [],
   "source": [
    "serializer = OwnerSerializer(data=data)\n",
    "if serializer.is_valid():\n",
    "    serializer.save()\n",
    "    print(serializer.data)\n",
    "else:\n",
    "    print('error', serializer.errors)"
   ]
  },
  {
   "cell_type": "code",
   "execution_count": null,
   "id": "straight-lease",
   "metadata": {},
   "outputs": [],
   "source": [
    "res.json()"
   ]
  },
  {
   "cell_type": "code",
   "execution_count": null,
   "id": "scheduled-mercy",
   "metadata": {},
   "outputs": [],
   "source": [
    "Owner.object.filter(business_name='비영이짝태')"
   ]
  },
  {
   "cell_type": "code",
   "execution_count": null,
   "id": "successful-screening",
   "metadata": {},
   "outputs": [],
   "source": [
    "print(repr(OwnerSerializer()))"
   ]
  },
  {
   "cell_type": "code",
   "execution_count": null,
   "id": "presidential-passion",
   "metadata": {},
   "outputs": [],
   "source": []
  },
  {
   "cell_type": "code",
   "execution_count": null,
   "id": "foreign-berry",
   "metadata": {},
   "outputs": [],
   "source": []
  },
  {
   "cell_type": "code",
   "execution_count": null,
   "id": "exciting-being",
   "metadata": {},
   "outputs": [],
   "source": []
  },
  {
   "cell_type": "code",
   "execution_count": null,
   "id": "fifteen-paradise",
   "metadata": {},
   "outputs": [],
   "source": [
    "\n"
   ]
  },
  {
   "cell_type": "code",
   "execution_count": null,
   "id": "experimental-division",
   "metadata": {},
   "outputs": [],
   "source": [
    "data = {\n",
    "                \"name\": \"김성준\",\n",
    "                \"department\": \"영업관리팀\",\n",
    "                \"position\": \"팀장\",\n",
    "                \"phone_number\": \"01022145512\",\n",
    "                \"email\": \"sj@gmail.com\",\n",
    "}"
   ]
  },
  {
   "cell_type": "code",
   "execution_count": null,
   "id": "informal-southeast",
   "metadata": {},
   "outputs": [],
   "source": [
    "data"
   ]
  },
  {
   "cell_type": "code",
   "execution_count": null,
   "id": "suspected-obligation",
   "metadata": {},
   "outputs": [],
   "source": [
    "serializer = PayGoComputationalManagerSerializer(data=data)"
   ]
  },
  {
   "cell_type": "code",
   "execution_count": null,
   "id": "living-catalog",
   "metadata": {},
   "outputs": [],
   "source": [
    "serializer.save()"
   ]
  },
  {
   "cell_type": "code",
   "execution_count": null,
   "id": "smooth-august",
   "metadata": {},
   "outputs": [],
   "source": [
    "serializer.data"
   ]
  },
  {
   "cell_type": "code",
   "execution_count": null,
   "id": "cathedral-tobacco",
   "metadata": {},
   "outputs": [],
   "source": [
    "manager_object = PayGoComputationalManager.objects.get(name='박선애')\n",
    "if manager_object:\n",
    "    print('a')\n",
    "else:\n",
    "    print('g')\n",
    "manager_object"
   ]
  },
  {
   "cell_type": "code",
   "execution_count": null,
   "id": "saved-newsletter",
   "metadata": {},
   "outputs": [],
   "source": [
    "owner=Owner.objects.first()"
   ]
  },
  {
   "cell_type": "code",
   "execution_count": null,
   "id": "powered-object",
   "metadata": {},
   "outputs": [],
   "source": []
  },
  {
   "cell_type": "code",
   "execution_count": null,
   "id": "competitive-gnome",
   "metadata": {},
   "outputs": [],
   "source": [
    "p2"
   ]
  },
  {
   "cell_type": "code",
   "execution_count": null,
   "id": "divided-brick",
   "metadata": {},
   "outputs": [],
   "source": [
    "p3"
   ]
  },
  {
   "cell_type": "code",
   "execution_count": null,
   "id": "superior-juice",
   "metadata": {},
   "outputs": [],
   "source": [
    "owner.paygo_computation_manager.add([p1,p2,p3])\n"
   ]
  },
  {
   "cell_type": "code",
   "execution_count": null,
   "id": "ranking-apparatus",
   "metadata": {},
   "outputs": [],
   "source": [
    "Owner.objects.delete()"
   ]
  },
  {
   "cell_type": "code",
   "execution_count": null,
   "id": "atlantic-gregory",
   "metadata": {},
   "outputs": [],
   "source": [
    "data = {\n",
    "    \n",
    "}"
   ]
  },
  {
   "cell_type": "code",
   "execution_count": null,
   "id": "periodic-liability",
   "metadata": {},
   "outputs": [],
   "source": []
  }
 ],
 "metadata": {
  "kernelspec": {
   "display_name": "Django Shell-Plus",
   "language": "python",
   "name": "django_extensions"
  },
  "language_info": {
   "codemirror_mode": {
    "name": "ipython",
    "version": 3
   },
   "file_extension": ".py",
   "mimetype": "text/x-python",
   "name": "python",
   "nbconvert_exporter": "python",
   "pygments_lexer": "ipython3",
   "version": "3.7.8"
  }
 },
 "nbformat": 4,
 "nbformat_minor": 5
}
