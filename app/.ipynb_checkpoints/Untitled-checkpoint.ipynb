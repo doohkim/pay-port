{
 "cells": [
  {
   "cell_type": "code",
   "execution_count": 1,
   "metadata": {},
   "outputs": [],
   "source": [
    "from datetime import date\n",
    "import os\n",
    "import requests\n",
    "os.environ[\"DJANGO_ALLOW_ASYNC_UNSAFE\"] = \"true\""
   ]
  },
  {
   "cell_type": "code",
   "execution_count": 3,
   "metadata": {},
   "outputs": [],
   "source": [
    "headers = {\n",
    "    \"Accept\": \"application/json, text/javascript, */*; q=0.01\",\n",
    "    \"Accept-Encoding\": \"gzip, deflate\",\n",
    "    \"Accept-Language\": \"ko-KR,ko;q=0.9,en-US;q=0.8,en;q=0.7\",\n",
    "    \"Connection\": \"keep-alive\",\n",
    "    \"Content-Length\": \"171\",\n",
    "    \"Content-Type\": \"application/x-www-form-urlencoded; charset=UTF-8\",\n",
    "    \"Cookie\": \"userInputId=admin; JSESSIONID=EA99F1FE0D2E4FA415747809A4F15C42; savedPopupWindow_w=1000; savedPopupWindow_h=699\",\n",
    "    \"Host\": \"admin.pay-go.co.kr\",\n",
    "    \"Origin\": \"http://admin.pay-go.co.kr\",\n",
    "    \"Referer\": \"http://admin.pay-go.co.kr/admin/trans/TransForm.do\",\n",
    "    \"User-Agent\": \"Mozilla/5.0 (X11; Linux x86_64) AppleWebKit/537.36 (KHTML, like Gecko) Chrome/87.0.4280.88 Safari/537.36\",\n",
    "    \"X-Requested-With\": \"XMLHttpRequest\",\n",
    "}"
   ]
  },
  {
   "cell_type": "code",
   "execution_count": 2,
   "metadata": {},
   "outputs": [],
   "source": [
    "data = {\n",
    "    \"coNm\": \"\",\n",
    "    \"coNo\": \"\",\n",
    "    \"emp\": \"admin\",\n",
    "    \"mid\":\"\" ,\n",
    "    \n",
    "    \n",
    "    \"regType\": \"Update\",\n",
    "\n",
    "    \"selID\": \"\",\n",
    "    \"selCycle\": \"\",\n",
    "    \"strUse\": \"\",\n",
    "    \"selDate\":\"2\" ,\n",
    "    \"selJoinType\": \"\",\n",
    "    \"selPgCd\": \"\",\n",
    "    \"selSmallCl\": \"\",\n",
    "    \"_search\": False,\n",
    "    \"nd\": \"1612150887151\",\n",
    "    \"rows\": \"-1\",\n",
    "    \"page\": \"1\",\n",
    "    \"sidx\": \"\",\n",
    "    \"sord\": \"asc\",\n",
    "\n",
    "}"
   ]
  },
  {
   "cell_type": "code",
   "execution_count": 4,
   "metadata": {},
   "outputs": [],
   "source": [
    "url ='http://admin.pay-go.co.kr/admin/foundation/FoundationSearchAjax.do'"
   ]
  },
  {
   "cell_type": "code",
   "execution_count": 5,
   "metadata": {},
   "outputs": [],
   "source": [
    "res = requests.post(url, headers=headers, data=data)"
   ]
  },
  {
   "cell_type": "code",
   "execution_count": 8,
   "metadata": {},
   "outputs": [],
   "source": [
    "contents = res.json()"
   ]
  },
  {
   "cell_type": "code",
   "execution_count": 22,
   "metadata": {
    "scrolled": false
   },
   "outputs": [
    {
     "name": "stdout",
     "output_type": "stream",
     "text": [
      "{'tel_no': '1833-7431', 'fax_no': '', 'join_type': '대행', 'tech_emp': '', 'boss_nm': '이종찬', 'bnm': '', 'post_no': '03157', 'anm': '', 'emp1': 'sales', 'corp_no': '1412110115018', 'emp0': '영업관리팀', 'status': '사용', 'org_fee': 2.3, 'cont_dt': '20210128', 'mid_url': '', 'fee': 6.6, 'email': '', 'gid': 'GID000001g', 'settlmnt_emp': '', 'addr_no2': '르메이메르 종로타워  A동705호', 'co_nm': '(주)한승', 'aid': 'AID000001a', 'addr_no1': '서울 종로구 종로 19', 'eid_fee': 2.64, 'co_no': '2208182546', 'eid': 'paygo9358a', 'tech_emp_email': '', 'tech_emp_tel': '', 'settlmnt_emp_email': '', 'insurance_cnt': 0, 'gnm': '', 'service_cl': '매입', 'bid': '', 'submall_url': '', 'enm': '더이노총판', 'mn_bs_kind': 'nullnull', 'small_cl_nm': '일반', 'use01': '신용카드', 'cont_img': 0, 'mid': 'paygo0029m', 'soc_no': '800629', 'settlmnt_emp_tel': ''}\n",
      "{'tel_no': '01028781838', 'fax_no': '', 'join_type': '대행', 'tech_emp': '', 'boss_nm': 'SUN YANHUA', 'bnm': '', 'post_no': '08298', 'anm': '', 'emp1': '영업관리팀', 'corp_no': '', 'emp0': '영업관리팀', 'status': '사용', 'org_fee': 2.3, 'cont_dt': '20210128', 'mid_url': '', 'fee': 3.63, 'email': '', 'gid': 'GID000001g', 'settlmnt_emp': '', 'addr_no2': '새솔금호상가 6호', 'co_nm': '오나의커피님', 'aid': 'AID000001a', 'addr_no1': '서울 구로구 공원로 35', 'co_no': '7995500172', 'eid': '', 'tech_emp_email': '', 'tech_emp_tel': '', 'settlmnt_emp_email': '', 'insurance_cnt': 0, 'gnm': '', 'service_cl': '매입', 'bid': '', 'submall_url': '', 'enm': '', 'mn_bs_kind': 'nullnull', 'small_cl_nm': '일반', 'use01': '신용카드', 'cont_img': 0, 'mid': 'paygo1838m', 'soc_no': '000000', 'settlmnt_emp_tel': ''}\n"
     ]
    },
    {
     "ename": "KeyError",
     "evalue": "'eid_fee'",
     "output_type": "error",
     "traceback": [
      "\u001b[0;31m---------------------------------------------------------------------------\u001b[0m",
      "\u001b[0;31mKeyError\u001b[0m                                  Traceback (most recent call last)",
      "\u001b[0;32m<ipython-input-22-41ef6ceddc37>\u001b[0m in \u001b[0;36m<module>\u001b[0;34m\u001b[0m\n\u001b[1;32m     20\u001b[0m \u001b[0;34m\u001b[0m\u001b[0m\n\u001b[1;32m     21\u001b[0m     \u001b[0mfran\u001b[0m\u001b[0;34m[\u001b[0m\u001b[0;34m'addr_no1'\u001b[0m\u001b[0;34m]\u001b[0m\u001b[0;34m\u001b[0m\u001b[0;34m\u001b[0m\u001b[0m\n\u001b[0;32m---> 22\u001b[0;31m     \u001b[0mfran\u001b[0m\u001b[0;34m[\u001b[0m\u001b[0;34m'eid_fee'\u001b[0m\u001b[0;34m]\u001b[0m\u001b[0;34m\u001b[0m\u001b[0;34m\u001b[0m\u001b[0m\n\u001b[0m\u001b[1;32m     23\u001b[0m     \u001b[0mfran\u001b[0m\u001b[0;34m[\u001b[0m\u001b[0;34m'co_no'\u001b[0m\u001b[0;34m]\u001b[0m\u001b[0;34m\u001b[0m\u001b[0;34m\u001b[0m\u001b[0m\n\u001b[1;32m     24\u001b[0m     \u001b[0mfran\u001b[0m\u001b[0;34m[\u001b[0m\u001b[0;34m'eid'\u001b[0m\u001b[0;34m]\u001b[0m\u001b[0;34m\u001b[0m\u001b[0;34m\u001b[0m\u001b[0m\n",
      "\u001b[0;31mKeyError\u001b[0m: 'eid_fee'"
     ]
    }
   ],
   "source": [
    "for fran in contents['rows']:\n",
    "    print(fran)\n",
    "    fran['tel_no']\n",
    "    fran['fax_no']\n",
    "    fran['join_type']\n",
    "    fran['tech_emp']\n",
    "    fran['boss_nm']\n",
    "    fran['bnm']\n",
    "    fran['post_no']\n",
    "    fran['anm'] \n",
    "    \n",
    "    fran['emp1']\n",
    "    fran['corp_no']\n",
    "    fran['emp0']\n",
    "    fran['status']\n",
    "    fran['org_fee']\n",
    "    fran['cont_dt']\n",
    "    fran['mid_url']\n",
    "    fran['aid'] \n",
    "    \n",
    "    fran['addr_no1']\n",
    "    fran['eid_fee']\n",
    "    fran['co_no']\n",
    "    fran['eid']\n",
    "    fran['tech_emp_email']\n",
    "    fran['tech_emp_tel']\n",
    "    fran['settlmnt_emp_email']\n",
    "    fran['insurance_cnt'] \n",
    "    \n",
    "    fran['gnm']\n",
    "    fran['service_cl']\n",
    "    fran['bid']\n",
    "    fran['submall_url']\n",
    "    fran['enm']\n",
    "    fran['mn_bs_kind']\n",
    "    fran['small_cl_nm']\n",
    "    fran['use01'] \n",
    "    \n",
    "    fran['cont_img']\n",
    "    fran['mid']\n",
    "    fran['soc_no']\n",
    "    fran['settlmnt_emp_tel']"
   ]
  },
  {
   "cell_type": "code",
   "execution_count": null,
   "metadata": {},
   "outputs": [],
   "source": []
  }
 ],
 "metadata": {
  "kernelspec": {
   "display_name": "Django Shell-Plus",
   "language": "python",
   "name": "django_extensions"
  },
  "language_info": {
   "codemirror_mode": {
    "name": "ipython",
    "version": 3
   },
   "file_extension": ".py",
   "mimetype": "text/x-python",
   "name": "python",
   "nbconvert_exporter": "python",
   "pygments_lexer": "ipython3",
   "version": "3.7.8"
  }
 },
 "nbformat": 4,
 "nbformat_minor": 4
}
